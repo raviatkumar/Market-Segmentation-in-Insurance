{
  "nbformat": 4,
  "nbformat_minor": 0,
  "metadata": {
    "colab": {
      "provenance": [],
      "authorship_tag": "ABX9TyMCUNgvp9e+7ySByFlz1eb0"
    },
    "kernelspec": {
      "name": "python3",
      "display_name": "Python 3"
    },
    "language_info": {
      "name": "python"
    }
  },
  "cells": [
    {
      "cell_type": "markdown",
      "source": [
        "# Language Translator using Googletrans"
      ],
      "metadata": {
        "id": "Eww2W0R2gON-"
      }
    },
    {
      "cell_type": "markdown",
      "source": [
        "###Import library"
      ],
      "metadata": {
        "id": "92U5NClQgW5y"
      }
    },
    {
      "cell_type": "code",
      "execution_count": null,
      "metadata": {
        "id": "CVOqycTkfMf-"
      },
      "outputs": [],
      "source": [
        "import numpy as np\n",
        "import pandas as pd\n",
        "from googletrans import Translator"
      ]
    },
    {
      "cell_type": "code",
      "source": [
        "!pip install googletrans==3.1.0a0"
      ],
      "metadata": {
        "colab": {
          "base_uri": "https://localhost:8080/"
        },
        "id": "gzU5eThgfO73",
        "outputId": "3264bd7b-d7a7-4131-9756-cc860a913da4"
      },
      "execution_count": null,
      "outputs": [
        {
          "output_type": "stream",
          "name": "stdout",
          "text": [
            "Requirement already satisfied: googletrans==3.1.0a0 in /usr/local/lib/python3.10/dist-packages (3.1.0a0)\n",
            "Requirement already satisfied: httpx==0.13.3 in /usr/local/lib/python3.10/dist-packages (from googletrans==3.1.0a0) (0.13.3)\n",
            "Requirement already satisfied: certifi in /usr/local/lib/python3.10/dist-packages (from httpx==0.13.3->googletrans==3.1.0a0) (2024.12.14)\n",
            "Requirement already satisfied: hstspreload in /usr/local/lib/python3.10/dist-packages (from httpx==0.13.3->googletrans==3.1.0a0) (2025.1.1)\n",
            "Requirement already satisfied: sniffio in /usr/local/lib/python3.10/dist-packages (from httpx==0.13.3->googletrans==3.1.0a0) (1.3.1)\n",
            "Requirement already satisfied: chardet==3.* in /usr/local/lib/python3.10/dist-packages (from httpx==0.13.3->googletrans==3.1.0a0) (3.0.4)\n",
            "Requirement already satisfied: idna==2.* in /usr/local/lib/python3.10/dist-packages (from httpx==0.13.3->googletrans==3.1.0a0) (2.10)\n",
            "Requirement already satisfied: rfc3986<2,>=1.3 in /usr/local/lib/python3.10/dist-packages (from httpx==0.13.3->googletrans==3.1.0a0) (1.5.0)\n",
            "Requirement already satisfied: httpcore==0.9.* in /usr/local/lib/python3.10/dist-packages (from httpx==0.13.3->googletrans==3.1.0a0) (0.9.1)\n",
            "Requirement already satisfied: h11<0.10,>=0.8 in /usr/local/lib/python3.10/dist-packages (from httpcore==0.9.*->httpx==0.13.3->googletrans==3.1.0a0) (0.9.0)\n",
            "Requirement already satisfied: h2==3.* in /usr/local/lib/python3.10/dist-packages (from httpcore==0.9.*->httpx==0.13.3->googletrans==3.1.0a0) (3.2.0)\n",
            "Requirement already satisfied: hyperframe<6,>=5.2.0 in /usr/local/lib/python3.10/dist-packages (from h2==3.*->httpcore==0.9.*->httpx==0.13.3->googletrans==3.1.0a0) (5.2.0)\n",
            "Requirement already satisfied: hpack<4,>=3.0 in /usr/local/lib/python3.10/dist-packages (from h2==3.*->httpcore==0.9.*->httpx==0.13.3->googletrans==3.1.0a0) (3.0.0)\n"
          ]
        }
      ]
    },
    {
      "cell_type": "markdown",
      "source": [
        "### Conversion of tamil to Telugu"
      ],
      "metadata": {
        "id": "_8xd9qdFgltg"
      }
    },
    {
      "cell_type": "code",
      "source": [
        "text=\"கடவுள் பெரியவர்\"\n",
        "translator= Translator()\n",
        "out_text=translator.translate(text, dest='telugu')\n",
        "l=translator.detect(text)"
      ],
      "metadata": {
        "id": "tpph33ZdfetF"
      },
      "execution_count": null,
      "outputs": []
    },
    {
      "cell_type": "code",
      "source": [
        "print(\"sentence is:\", out_text.text)\n",
        "print(\"language is:\",l.lang)"
      ],
      "metadata": {
        "colab": {
          "base_uri": "https://localhost:8080/"
        },
        "id": "iLCGSku0gBoF",
        "outputId": "1b4e1b31-9fdf-40ca-80bb-575b4f4403bf"
      },
      "execution_count": null,
      "outputs": [
        {
          "output_type": "stream",
          "name": "stdout",
          "text": [
            "sentence is: దేవుడు గొప్పవాడు\n",
            "language is: ta\n"
          ]
        }
      ]
    },
    {
      "cell_type": "markdown",
      "source": [
        "### Conversion of tamil to english"
      ],
      "metadata": {
        "id": "eyRqdqdngeDu"
      }
    },
    {
      "cell_type": "code",
      "source": [
        "text=\"கடவுள் பெரியவர்\"\n",
        "translator= Translator()\n",
        "out_text=translator.translate(text, dest='en')\n",
        "l=translator.detect(text)"
      ],
      "metadata": {
        "id": "9170w4rJfT-2"
      },
      "execution_count": null,
      "outputs": []
    },
    {
      "cell_type": "code",
      "source": [
        "print(\"sentence is:\", out_text.text)\n",
        "print(\"language is:\",l.lang)"
      ],
      "metadata": {
        "colab": {
          "base_uri": "https://localhost:8080/"
        },
        "id": "AiXLErFwfcv1",
        "outputId": "ba4b05f9-9cb9-4e0b-ec50-68966aa37cc6"
      },
      "execution_count": null,
      "outputs": [
        {
          "output_type": "stream",
          "name": "stdout",
          "text": [
            "sentence is: God is great\n",
            "language is: ta\n"
          ]
        }
      ]
    },
    {
      "cell_type": "code",
      "source": [
        "text=\"Enjoy your freedom so that you will enjoy your life by God's grace\"\n",
        "translator= Translator()\n",
        "out_text=translator.translate(text, dest='kannada')\n",
        "l=translator.detect(text)"
      ],
      "metadata": {
        "id": "fc9IrkC9fsp-"
      },
      "execution_count": null,
      "outputs": []
    },
    {
      "cell_type": "code",
      "source": [
        "print(\"sentence is:\", out_text.text)\n",
        "print(\"language is:\",l.lang)"
      ],
      "metadata": {
        "colab": {
          "base_uri": "https://localhost:8080/"
        },
        "id": "U9IEZDOifw5R",
        "outputId": "f27aa598-7bb2-416a-abdb-3303b6de9434"
      },
      "execution_count": null,
      "outputs": [
        {
          "output_type": "stream",
          "name": "stdout",
          "text": [
            "sentence is: ನಿಮ್ಮ ಸ್ವಾತಂತ್ರ್ಯವನ್ನು ಆನಂದಿಸಿ ಇದರಿಂದ ನೀವು ದೇವರ ಅನುಗ್ರಹದಿಂದ ನಿಮ್ಮ ಜೀವನವನ್ನು ಆನಂದಿಸುವಿರಿ\n",
            "language is: en\n"
          ]
        }
      ]
    },
    {
      "cell_type": "code",
      "source": [
        "text=\"When you lack good health, everything else in life suffers. It’s harder to concentrate and study. Illness can cause you to fall behind in coursework. Stress can make you feel overwhelmed. If you want to do well in all areas of your life, you must make your health a priority. The Social Progress Index measures the social performance of 170 countries using 57 well-being metrics. Globally, the U.S. ranks 35th on nutrition and basic medical care and 40th on health. These are not encouraging numbers, and they highlight the need for improvements. However, you don’t need an expensive gym membership or a complicated diet plan to improve your health. You can get solid health and wellness tips from authoritative blogs and reputable resources. Don’t know where to start? Let’s explore 25 of the best health and wellness blogs on fitness, nutrition, and mental health.\"\n",
        "translator= Translator()\n",
        "out_text=translator.translate(text, dest='kannada')\n",
        "l=translator.detect(text)"
      ],
      "metadata": {
        "id": "NMn3RlUOgCTe"
      },
      "execution_count": null,
      "outputs": []
    },
    {
      "cell_type": "code",
      "source": [
        "print(\"sentence is:\", out_text.text)\n",
        "print(\"language is:\",l.lang)"
      ],
      "metadata": {
        "colab": {
          "base_uri": "https://localhost:8080/"
        },
        "id": "_fadJMZzgUv_",
        "outputId": "dbada4b6-c9f2-46e8-ed63-0cb925bf69bd"
      },
      "execution_count": null,
      "outputs": [
        {
          "output_type": "stream",
          "name": "stdout",
          "text": [
            "sentence is: ನೀವು ಉತ್ತಮ ಆರೋಗ್ಯವನ್ನು ಹೊಂದಿಲ್ಲದಿದ್ದರೆ, ಜೀವನದಲ್ಲಿ ಉಳಿದೆಲ್ಲವೂ ಬಳಲುತ್ತದೆ. ಏಕಾಗ್ರತೆ ಮತ್ತು ಅಧ್ಯಯನ ಮಾಡುವುದು ಕಷ್ಟ. ಅನಾರೋಗ್ಯದಿಂದ ನೀವು ಕೋರ್ಸ್‌ವರ್ಕ್‌ನಲ್ಲಿ ಹಿಂದೆ ಬೀಳಬಹುದು. ಒತ್ತಡವು ನಿಮ್ಮನ್ನು ಅತಿಯಾಗಿ ಅನುಭವಿಸುವಂತೆ ಮಾಡುತ್ತದೆ. ನಿಮ್ಮ ಜೀವನದ ಎಲ್ಲಾ ಕ್ಷೇತ್ರಗಳಲ್ಲಿ ನೀವು ಉತ್ತಮವಾಗಿ ಕಾರ್ಯನಿರ್ವಹಿಸಲು ಬಯಸಿದರೆ, ನಿಮ್ಮ ಆರೋಗ್ಯಕ್ಕೆ ನೀವು ಆದ್ಯತೆ ನೀಡಬೇಕು. ಸಾಮಾಜಿಕ ಪ್ರಗತಿ ಸೂಚ್ಯಂಕವು 57 ಯೋಗಕ್ಷೇಮ ಮೆಟ್ರಿಕ್‌ಗಳನ್ನು ಬಳಸಿಕೊಂಡು 170 ದೇಶಗಳ ಸಾಮಾಜಿಕ ಕಾರ್ಯಕ್ಷಮತೆಯನ್ನು ಅಳೆಯುತ್ತದೆ. ಜಾಗತಿಕವಾಗಿ, U.S. ಪೌಷ್ಟಿಕಾಂಶ ಮತ್ತು ಮೂಲಭೂತ ವೈದ್ಯಕೀಯ ಆರೈಕೆಯಲ್ಲಿ 35 ನೇ ಸ್ಥಾನದಲ್ಲಿದೆ ಮತ್ತು ಆರೋಗ್ಯದಲ್ಲಿ 40 ನೇ ಸ್ಥಾನದಲ್ಲಿದೆ. ಇವುಗಳು ಪ್ರೋತ್ಸಾಹದಾಯಕ ಸಂಖ್ಯೆಗಳಲ್ಲ, ಮತ್ತು ಸುಧಾರಣೆಗಳ ಅಗತ್ಯವನ್ನು ಅವು ಎತ್ತಿ ತೋರಿಸುತ್ತವೆ. ಆದಾಗ್ಯೂ, ನಿಮ್ಮ ಆರೋಗ್ಯವನ್ನು ಸುಧಾರಿಸಲು ನಿಮಗೆ ದುಬಾರಿ ಜಿಮ್ ಸದಸ್ಯತ್ವ ಅಥವಾ ಸಂಕೀರ್ಣವಾದ ಆಹಾರ ಯೋಜನೆ ಅಗತ್ಯವಿಲ್ಲ. ಅಧಿಕೃತ ಬ್ಲಾಗ್‌ಗಳು ಮತ್ತು ಪ್ರತಿಷ್ಠಿತ ಸಂಪನ್ಮೂಲಗಳಿಂದ ನೀವು ಘನ ಆರೋಗ್ಯ ಮತ್ತು ಕ್ಷೇಮ ಸಲಹೆಗಳನ್ನು ಪಡೆಯಬಹುದು. ಎಲ್ಲಿ ಪ್ರಾರಂಭಿಸಬೇಕು ಎಂದು ತಿಳಿದಿಲ್ಲವೇ? ಫಿಟ್‌ನೆಸ್, ಪೋಷಣೆ ಮತ್ತು ಮಾನಸಿಕ ಆರೋಗ್ಯದ ಕುರಿತು 25 ಅತ್ಯುತ್ತಮ ಆರೋಗ್ಯ ಮತ್ತು ಕ್ಷೇಮ ಬ್ಲಾಗ್‌ಗಳನ್ನು ಅನ್ವೇಷಿಸೋಣ.\n",
            "language is: en\n"
          ]
        }
      ]
    },
    {
      "cell_type": "code",
      "source": [],
      "metadata": {
        "id": "7HCCU45mggpO"
      },
      "execution_count": null,
      "outputs": []
    }
  ]
}